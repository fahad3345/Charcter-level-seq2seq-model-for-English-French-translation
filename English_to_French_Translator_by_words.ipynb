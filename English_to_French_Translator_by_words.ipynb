{
  "nbformat": 4,
  "nbformat_minor": 0,
  "metadata": {
    "colab": {
      "provenance": [],
      "gpuType": "T4",
      "authorship_tag": "ABX9TyPKYw9Sq2vY02mbKjXIwD5J",
      "include_colab_link": true
    },
    "kernelspec": {
      "name": "python3",
      "display_name": "Python 3"
    },
    "language_info": {
      "name": "python"
    },
    "accelerator": "GPU"
  },
  "cells": [
    {
      "cell_type": "markdown",
      "metadata": {
        "id": "view-in-github",
        "colab_type": "text"
      },
      "source": [
        "<a href=\"https://colab.research.google.com/github/fahad3345/Charcter-level-seq2seq-model-for-English-French-translation/blob/main/English_to_French_Translator_by_words.ipynb\" target=\"_parent\"><img src=\"https://colab.research.google.com/assets/colab-badge.svg\" alt=\"Open In Colab\"/></a>"
      ]
    },
    {
      "cell_type": "markdown",
      "source": [
        "## Setup"
      ],
      "metadata": {
        "id": "m-plO6B2mw3G"
      }
    },
    {
      "cell_type": "code",
      "execution_count": 1,
      "metadata": {
        "id": "5IUldPpHkrnd"
      },
      "outputs": [],
      "source": [
        "import numpy as np\n",
        "import tensorflow as tf\n",
        "from tensorflow import keras"
      ]
    },
    {
      "cell_type": "markdown",
      "source": [
        "## Download the data"
      ],
      "metadata": {
        "id": "-fWLHGIlm1oH"
      }
    },
    {
      "cell_type": "code",
      "source": [
        "!!curl -O http://www.manythings.org/anki/fra-eng.zip\n",
        "!!unzip fra-eng.zip"
      ],
      "metadata": {
        "colab": {
          "base_uri": "https://localhost:8080/"
        },
        "id": "VxCCVvFWmTP6",
        "outputId": "5ff0d67f-4d04-4d05-f910-5bb2ad8f441e"
      },
      "execution_count": 2,
      "outputs": [
        {
          "output_type": "execute_result",
          "data": {
            "text/plain": [
              "['Archive:  fra-eng.zip',\n",
              " '  inflating: _about.txt              ',\n",
              " '  inflating: fra.txt                 ']"
            ]
          },
          "metadata": {},
          "execution_count": 2
        }
      ]
    },
    {
      "cell_type": "markdown",
      "source": [
        "## Configuration"
      ],
      "metadata": {
        "id": "SsBhDq4qmqOc"
      }
    },
    {
      "cell_type": "code",
      "source": [
        "batch_size = 64  # Batch size for training.\n",
        "epochs = 100  # Number of epochs to train for.\n",
        "latent_dim = 256  # Latent dimensionality of the encoding space.\n",
        "num_samples = 10000  # Number of samples to train on.\n",
        "# Path to the data txt file on disk.\n",
        "data_path = \"fra.txt\""
      ],
      "metadata": {
        "id": "P2N14ruLmZ7M"
      },
      "execution_count": 3,
      "outputs": []
    },
    {
      "cell_type": "markdown",
      "source": [
        "## Prepare the data"
      ],
      "metadata": {
        "id": "WfsyTitlm_DW"
      }
    },
    {
      "cell_type": "code",
      "source": [
        "# Vectorize the data.\n",
        "input_texts = []\n",
        "target_texts = []\n",
        "input_characters = set()\n",
        "target_characters = set()\n",
        "with open(data_path, \"r\", encoding=\"utf-8\") as f:\n",
        "    lines = f.read().split(\"\\n\")\n",
        "lines[:10]"
      ],
      "metadata": {
        "colab": {
          "base_uri": "https://localhost:8080/"
        },
        "id": "5HFMWNJYmiDL",
        "outputId": "6046d0be-9d22-4b02-d983-760d3244bdaf"
      },
      "execution_count": 5,
      "outputs": [
        {
          "output_type": "execute_result",
          "data": {
            "text/plain": [
              "['Go.\\tVa !\\tCC-BY 2.0 (France) Attribution: tatoeba.org #2877272 (CM) & #1158250 (Wittydev)',\n",
              " 'Go.\\tMarche.\\tCC-BY 2.0 (France) Attribution: tatoeba.org #2877272 (CM) & #8090732 (Micsmithel)',\n",
              " 'Go.\\tEn route !\\tCC-BY 2.0 (France) Attribution: tatoeba.org #2877272 (CM) & #8267435 (felix63)',\n",
              " 'Go.\\tBouge !\\tCC-BY 2.0 (France) Attribution: tatoeba.org #2877272 (CM) & #9022935 (Micsmithel)',\n",
              " 'Hi.\\tSalut !\\tCC-BY 2.0 (France) Attribution: tatoeba.org #538123 (CM) & #509819 (Aiji)',\n",
              " 'Hi.\\tSalut.\\tCC-BY 2.0 (France) Attribution: tatoeba.org #538123 (CM) & #4320462 (gillux)',\n",
              " 'Run!\\tCours\\u202f!\\tCC-BY 2.0 (France) Attribution: tatoeba.org #906328 (papabear) & #906331 (sacredceltic)',\n",
              " 'Run!\\tCourez\\u202f!\\tCC-BY 2.0 (France) Attribution: tatoeba.org #906328 (papabear) & #906332 (sacredceltic)',\n",
              " 'Run!\\tPrenez vos jambes à vos cous !\\tCC-BY 2.0 (France) Attribution: tatoeba.org #906328 (papabear) & #2077449 (sacredceltic)',\n",
              " 'Run!\\tFile !\\tCC-BY 2.0 (France) Attribution: tatoeba.org #906328 (papabear) & #2077454 (sacredceltic)']"
            ]
          },
          "metadata": {},
          "execution_count": 5
        }
      ]
    },
    {
      "cell_type": "code",
      "source": [
        "for line in lines[: min(num_samples, len(lines) - 1)]:\n",
        "    input_text, target_text, _ = line.split(\"\\t\")\n",
        "    # We use \"tab\" as the \"start sequence\" character\n",
        "    # for the targets, and \"\\n\" as \"end sequence\" character.\n",
        "    target_text = \"\\t\" + target_text + \"\\n\"\n",
        "    input_texts.append(input_text)\n",
        "    target_texts.append(target_text)\n",
        "    for char in input_text:\n",
        "        if char not in input_characters:\n",
        "            input_characters.add(char)\n",
        "    for char in target_text:\n",
        "        if char not in target_characters:\n",
        "            target_characters.add(char)\n",
        "print('Input unique characters:',input_characters)\n",
        "print('Target unique characters:',target_characters)"
      ],
      "metadata": {
        "colab": {
          "base_uri": "https://localhost:8080/"
        },
        "id": "brjqz9SfmmGI",
        "outputId": "4ab9a548-d560-44b3-ff75-bd97ea0ee275"
      },
      "execution_count": 9,
      "outputs": [
        {
          "output_type": "stream",
          "name": "stdout",
          "text": [
            "Input unique characters: {'&', '-', 'A', 'z', 'o', 'V', 'q', ' ', 'O', 'r', 'i', 'j', 'G', 'H', '9', ':', 'c', '0', 't', \"'\", 'U', 'u', '5', 'e', '.', 'Q', 'F', 'L', '!', '%', '?', 'f', 'h', 'B', '\"', 'N', '$', 'K', 'w', 'b', 'm', '3', 'S', '7', 'W', 'k', 'R', '1', 'T', '8', '2', 'n', 'd', 'x', 'C', 's', 'M', 'P', 'y', 'I', 'Y', 'a', 'g', 'l', 'v', ',', 'p', 'J', 'E', 'D'}\n",
            "Target unique characters: {'-', 'V', '\\u202f', 'r', '9', ')', 'ê', '»', '\\xa0', '\\n', 'ù', 'K', '1', 'û', 'C', 'é', 's', 'E', 'î', 'A', 'ç', 'z', '’', 'i', 'Ç', 'Ê', \"'\", 'u', '\\u2009', 'h', 'B', 'N', 'b', '2', 'R', 'Y', 'g', 'l', ',', 'J', '\\t', 'q', ' ', 'O', 'H', '0', 'c', 'à', '5', 'e', '?', 'è', 'â', 'œ', '3', 'w', 'S', 'W', '8', 'ï', 'd', 'M', 'x', 'P', '«', 'É', '(', 'À', '&', 'o', 'j', 'G', ':', 't', 'U', '.', 'Q', 'F', 'L', '!', '%', 'f', 'm', 'T', 'k', 'ô', 'n', 'y', 'I', 'a', 'v', 'p', 'D'}\n"
          ]
        }
      ]
    },
    {
      "cell_type": "code",
      "source": [
        "#input_texts\n",
        "#target_texts"
      ],
      "metadata": {
        "id": "35nkQHTCpNHK"
      },
      "execution_count": 13,
      "outputs": []
    },
    {
      "cell_type": "code",
      "source": [
        "input_characters = sorted(list(input_characters))\n",
        "target_characters = sorted(list(target_characters))\n",
        "num_encoder_tokens = len(input_characters)\n",
        "num_decoder_tokens = len(target_characters)\n",
        "max_encoder_seq_length = max([len(txt) for txt in input_texts])\n",
        "max_decoder_seq_length = max([len(txt) for txt in target_texts])"
      ],
      "metadata": {
        "id": "1qI_YFKjp33s"
      },
      "execution_count": 14,
      "outputs": []
    },
    {
      "cell_type": "code",
      "source": [
        "print(\"Number of samples:\", len(input_texts))\n",
        "print(\"Number of unique input tokens:\", num_encoder_tokens)\n",
        "print(\"Number of unique output tokens:\", num_decoder_tokens)\n",
        "print(\"Max sequence length for inputs:\", max_encoder_seq_length)\n",
        "print(\"Max sequence length for outputs:\", max_decoder_seq_length)"
      ],
      "metadata": {
        "colab": {
          "base_uri": "https://localhost:8080/"
        },
        "id": "tj1NxOSmqPuU",
        "outputId": "ed0ff174-46a5-4cf7-f36c-51e01a6d3baf"
      },
      "execution_count": 15,
      "outputs": [
        {
          "output_type": "stream",
          "name": "stdout",
          "text": [
            "Number of samples: 40000\n",
            "Number of unique input tokens: 70\n",
            "Number of unique output tokens: 93\n",
            "Max sequence length for inputs: 14\n",
            "Max sequence length for outputs: 59\n"
          ]
        }
      ]
    },
    {
      "cell_type": "code",
      "source": [
        "input_token_index = dict([(char, i) for i, char in enumerate(input_characters)])\n",
        "target_token_index = dict([(char, i) for i, char in enumerate(target_characters)])"
      ],
      "metadata": {
        "id": "NJnJ8Jkyqknb"
      },
      "execution_count": 16,
      "outputs": []
    },
    {
      "cell_type": "code",
      "source": [
        "#input_token_index\n",
        "#target_token_index"
      ],
      "metadata": {
        "id": "izfZSm3lq-kr"
      },
      "execution_count": 19,
      "outputs": []
    },
    {
      "cell_type": "code",
      "source": [
        "encoder_input_data = np.zeros(\n",
        "    (len(input_texts), max_encoder_seq_length, num_encoder_tokens), dtype=\"float32\"\n",
        ")\n",
        "decoder_input_data = np.zeros(\n",
        "    (len(input_texts), max_decoder_seq_length, num_decoder_tokens), dtype=\"float32\"\n",
        ")\n",
        "decoder_target_data = np.zeros(\n",
        "    (len(input_texts), max_decoder_seq_length, num_decoder_tokens), dtype=\"float32\"\n",
        ")"
      ],
      "metadata": {
        "id": "8OoEs6nbrC2L"
      },
      "execution_count": 20,
      "outputs": []
    },
    {
      "cell_type": "code",
      "source": [
        "print(encoder_input_data.shape)\n",
        "print(decoder_input_data.shape)\n",
        "print(decoder_target_data.shape)"
      ],
      "metadata": {
        "colab": {
          "base_uri": "https://localhost:8080/"
        },
        "id": "5rTXKij2uOt7",
        "outputId": "2cb94b83-96b4-4083-96f7-d30e05b2a057"
      },
      "execution_count": 27,
      "outputs": [
        {
          "output_type": "stream",
          "name": "stdout",
          "text": [
            "(40000, 14, 70)\n",
            "(40000, 59, 93)\n",
            "(40000, 59, 93)\n"
          ]
        }
      ]
    },
    {
      "cell_type": "code",
      "source": [
        "#This code doing the One Hot Encoding part\n",
        "for i, (input_text, target_text) in enumerate(zip(input_texts, target_texts)):\n",
        "    for t, char in enumerate(input_text):\n",
        "        encoder_input_data[i, t, input_token_index[char]] = 1.0\n",
        "    encoder_input_data[i, t + 1 :, input_token_index[\" \"]] = 1.0\n",
        "    for t, char in enumerate(target_text):\n",
        "        # decoder_target_data is ahead of decoder_input_data by one timestep\n",
        "        decoder_input_data[i, t, target_token_index[char]] = 1.0\n",
        "        if t > 0:\n",
        "            # decoder_target_data will be ahead by one timestep\n",
        "            # and will not include the start character.\n",
        "            decoder_target_data[i, t - 1, target_token_index[char]] = 1.0\n",
        "    decoder_input_data[i, t + 1 :, target_token_index[\" \"]] = 1.0\n",
        "    decoder_target_data[i, t:, target_token_index[\" \"]] = 1.0"
      ],
      "metadata": {
        "id": "BbvmQ4OJuUOr"
      },
      "execution_count": 34,
      "outputs": []
    },
    {
      "cell_type": "code",
      "source": [
        "#encoder_input_data"
      ],
      "metadata": {
        "id": "dKlAFOWmvluj"
      },
      "execution_count": 38,
      "outputs": []
    },
    {
      "cell_type": "markdown",
      "source": [
        "## Model building"
      ],
      "metadata": {
        "id": "6OUosMcGxokd"
      }
    },
    {
      "cell_type": "code",
      "source": [
        "# Define an input sequence and process it.\n",
        "encoder_inputs = keras.Input(shape=(None, num_encoder_tokens))\n",
        "encoder = keras.layers.LSTM(latent_dim, return_state=True)\n",
        "encoder_outputs, state_h, state_c = encoder(encoder_inputs)"
      ],
      "metadata": {
        "id": "c49TGujAvoGl"
      },
      "execution_count": 39,
      "outputs": []
    },
    {
      "cell_type": "code",
      "source": [
        "# We discard `encoder_outputs` and only keep the states.\n",
        "encoder_states = [state_h, state_c]"
      ],
      "metadata": {
        "id": "d1-vYz-EyDTa"
      },
      "execution_count": 40,
      "outputs": []
    },
    {
      "cell_type": "code",
      "source": [
        "# Set up the decoder, using `encoder_states` as initial state.\n",
        "decoder_inputs = keras.Input(shape=(None, num_decoder_tokens))"
      ],
      "metadata": {
        "id": "yxZGS1MQyI7K"
      },
      "execution_count": 43,
      "outputs": []
    },
    {
      "cell_type": "code",
      "source": [
        "# We set up our decoder to return full output sequences,and to return internal states as well. We don't use the\n",
        "# return states in the training model, but we will use them in inference.\n",
        "decoder_lstm = keras.layers.LSTM(latent_dim, return_sequences=True, return_state=True)\n",
        "decoder_outputs, _, _ = decoder_lstm(decoder_inputs, initial_state=encoder_states)\n",
        "decoder_dense = keras.layers.Dense(num_decoder_tokens, activation=\"softmax\")\n",
        "decoder_outputs = decoder_dense(decoder_outputs)"
      ],
      "metadata": {
        "id": "W4UegmRxyL9L"
      },
      "execution_count": 44,
      "outputs": []
    },
    {
      "cell_type": "code",
      "source": [
        "# Define the model that will turn\n",
        "# `encoder_input_data` & `decoder_input_data` into `decoder_target_data`\n",
        "model = keras.Model([encoder_inputs, decoder_inputs], decoder_outputs)"
      ],
      "metadata": {
        "id": "43VtddfJy1I2"
      },
      "execution_count": 47,
      "outputs": []
    },
    {
      "cell_type": "markdown",
      "source": [
        "## Model training"
      ],
      "metadata": {
        "id": "gjgtT5CKzj65"
      }
    },
    {
      "cell_type": "code",
      "source": [
        "model.compile(\n",
        "    optimizer=\"rmsprop\", loss=\"categorical_crossentropy\", metrics=[\"accuracy\"]\n",
        ")\n",
        "model.fit(\n",
        "    [encoder_input_data, decoder_input_data],\n",
        "    decoder_target_data,\n",
        "    batch_size=batch_size,\n",
        "    epochs=epochs,\n",
        "    validation_split=0.2,\n",
        ")\n",
        "# Save model\n",
        "model.save(\"s2s\")"
      ],
      "metadata": {
        "colab": {
          "base_uri": "https://localhost:8080/"
        },
        "id": "mS-cOdX1zfV1",
        "outputId": "35458e28-ee16-463d-ec9d-217abaaea8e7"
      },
      "execution_count": 48,
      "outputs": [
        {
          "output_type": "stream",
          "name": "stdout",
          "text": [
            "Epoch 1/100\n",
            "500/500 [==============================] - 16s 16ms/step - loss: 0.9413 - accuracy: 0.7578 - val_loss: 0.7324 - val_accuracy: 0.7906\n",
            "Epoch 2/100\n",
            "500/500 [==============================] - 6s 13ms/step - loss: 0.6268 - accuracy: 0.8177 - val_loss: 0.5996 - val_accuracy: 0.8239\n",
            "Epoch 3/100\n",
            "500/500 [==============================] - 6s 13ms/step - loss: 0.5415 - accuracy: 0.8412 - val_loss: 0.5325 - val_accuracy: 0.8440\n",
            "Epoch 4/100\n",
            "500/500 [==============================] - 7s 13ms/step - loss: 0.4866 - accuracy: 0.8569 - val_loss: 0.4838 - val_accuracy: 0.8568\n",
            "Epoch 5/100\n",
            "500/500 [==============================] - 6s 11ms/step - loss: 0.4462 - accuracy: 0.8682 - val_loss: 0.4501 - val_accuracy: 0.8670\n",
            "Epoch 6/100\n",
            "500/500 [==============================] - 7s 14ms/step - loss: 0.4158 - accuracy: 0.8768 - val_loss: 0.4252 - val_accuracy: 0.8738\n",
            "Epoch 7/100\n",
            "500/500 [==============================] - 6s 12ms/step - loss: 0.3907 - accuracy: 0.8839 - val_loss: 0.4007 - val_accuracy: 0.8798\n",
            "Epoch 8/100\n",
            "500/500 [==============================] - 7s 14ms/step - loss: 0.3692 - accuracy: 0.8902 - val_loss: 0.3788 - val_accuracy: 0.8873\n",
            "Epoch 9/100\n",
            "500/500 [==============================] - 6s 12ms/step - loss: 0.3505 - accuracy: 0.8955 - val_loss: 0.3555 - val_accuracy: 0.8934\n",
            "Epoch 10/100\n",
            "500/500 [==============================] - 7s 14ms/step - loss: 0.3330 - accuracy: 0.9007 - val_loss: 0.3432 - val_accuracy: 0.8977\n",
            "Epoch 11/100\n",
            "500/500 [==============================] - 6s 13ms/step - loss: 0.3173 - accuracy: 0.9053 - val_loss: 0.3289 - val_accuracy: 0.9018\n",
            "Epoch 12/100\n",
            "500/500 [==============================] - 7s 14ms/step - loss: 0.3025 - accuracy: 0.9095 - val_loss: 0.3128 - val_accuracy: 0.9062\n",
            "Epoch 13/100\n",
            "500/500 [==============================] - 6s 13ms/step - loss: 0.2887 - accuracy: 0.9138 - val_loss: 0.2982 - val_accuracy: 0.9110\n",
            "Epoch 14/100\n",
            "500/500 [==============================] - 6s 12ms/step - loss: 0.2760 - accuracy: 0.9174 - val_loss: 0.2824 - val_accuracy: 0.9160\n",
            "Epoch 15/100\n",
            "500/500 [==============================] - 7s 14ms/step - loss: 0.2639 - accuracy: 0.9210 - val_loss: 0.2741 - val_accuracy: 0.9178\n",
            "Epoch 16/100\n",
            "500/500 [==============================] - 7s 13ms/step - loss: 0.2523 - accuracy: 0.9244 - val_loss: 0.2632 - val_accuracy: 0.9205\n",
            "Epoch 17/100\n",
            "500/500 [==============================] - 6s 13ms/step - loss: 0.2415 - accuracy: 0.9275 - val_loss: 0.2504 - val_accuracy: 0.9248\n",
            "Epoch 18/100\n",
            "500/500 [==============================] - 6s 12ms/step - loss: 0.2309 - accuracy: 0.9306 - val_loss: 0.2408 - val_accuracy: 0.9279\n",
            "Epoch 19/100\n",
            "500/500 [==============================] - 7s 13ms/step - loss: 0.2212 - accuracy: 0.9334 - val_loss: 0.2336 - val_accuracy: 0.9296\n",
            "Epoch 20/100\n",
            "500/500 [==============================] - 6s 12ms/step - loss: 0.2120 - accuracy: 0.9362 - val_loss: 0.2235 - val_accuracy: 0.9327\n",
            "Epoch 21/100\n",
            "500/500 [==============================] - 6s 13ms/step - loss: 0.2031 - accuracy: 0.9388 - val_loss: 0.2122 - val_accuracy: 0.9363\n",
            "Epoch 22/100\n",
            "500/500 [==============================] - 6s 12ms/step - loss: 0.1946 - accuracy: 0.9413 - val_loss: 0.2052 - val_accuracy: 0.9383\n",
            "Epoch 23/100\n",
            "500/500 [==============================] - 7s 13ms/step - loss: 0.1866 - accuracy: 0.9436 - val_loss: 0.1957 - val_accuracy: 0.9408\n",
            "Epoch 24/100\n",
            "500/500 [==============================] - 7s 13ms/step - loss: 0.1789 - accuracy: 0.9459 - val_loss: 0.1857 - val_accuracy: 0.9440\n",
            "Epoch 25/100\n",
            "500/500 [==============================] - 6s 13ms/step - loss: 0.1716 - accuracy: 0.9480 - val_loss: 0.1779 - val_accuracy: 0.9466\n",
            "Epoch 26/100\n",
            "500/500 [==============================] - 7s 13ms/step - loss: 0.1648 - accuracy: 0.9500 - val_loss: 0.1712 - val_accuracy: 0.9487\n",
            "Epoch 27/100\n",
            "500/500 [==============================] - 6s 12ms/step - loss: 0.1581 - accuracy: 0.9520 - val_loss: 0.1646 - val_accuracy: 0.9506\n",
            "Epoch 28/100\n",
            "500/500 [==============================] - 7s 13ms/step - loss: 0.1521 - accuracy: 0.9539 - val_loss: 0.1584 - val_accuracy: 0.9524\n",
            "Epoch 29/100\n",
            "500/500 [==============================] - 7s 13ms/step - loss: 0.1457 - accuracy: 0.9557 - val_loss: 0.1525 - val_accuracy: 0.9540\n",
            "Epoch 30/100\n",
            "500/500 [==============================] - 6s 13ms/step - loss: 0.1399 - accuracy: 0.9575 - val_loss: 0.1455 - val_accuracy: 0.9561\n",
            "Epoch 31/100\n",
            "500/500 [==============================] - 7s 13ms/step - loss: 0.1347 - accuracy: 0.9588 - val_loss: 0.1402 - val_accuracy: 0.9578\n",
            "Epoch 32/100\n",
            "500/500 [==============================] - 6s 13ms/step - loss: 0.1293 - accuracy: 0.9605 - val_loss: 0.1369 - val_accuracy: 0.9583\n",
            "Epoch 33/100\n",
            "500/500 [==============================] - 6s 12ms/step - loss: 0.1241 - accuracy: 0.9619 - val_loss: 0.1297 - val_accuracy: 0.9608\n",
            "Epoch 34/100\n",
            "500/500 [==============================] - 7s 14ms/step - loss: 0.1193 - accuracy: 0.9634 - val_loss: 0.1258 - val_accuracy: 0.9617\n",
            "Epoch 35/100\n",
            "500/500 [==============================] - 6s 13ms/step - loss: 0.1148 - accuracy: 0.9647 - val_loss: 0.1176 - val_accuracy: 0.9647\n",
            "Epoch 36/100\n",
            "500/500 [==============================] - 7s 13ms/step - loss: 0.1104 - accuracy: 0.9661 - val_loss: 0.1160 - val_accuracy: 0.9650\n",
            "Epoch 37/100\n",
            "500/500 [==============================] - 6s 12ms/step - loss: 0.1061 - accuracy: 0.9673 - val_loss: 0.1103 - val_accuracy: 0.9667\n",
            "Epoch 38/100\n",
            "500/500 [==============================] - 7s 13ms/step - loss: 0.1022 - accuracy: 0.9685 - val_loss: 0.1050 - val_accuracy: 0.9683\n",
            "Epoch 39/100\n",
            "500/500 [==============================] - 6s 13ms/step - loss: 0.0984 - accuracy: 0.9695 - val_loss: 0.1001 - val_accuracy: 0.9696\n",
            "Epoch 40/100\n",
            "500/500 [==============================] - 7s 14ms/step - loss: 0.0947 - accuracy: 0.9706 - val_loss: 0.1006 - val_accuracy: 0.9690\n",
            "Epoch 41/100\n",
            "500/500 [==============================] - 7s 13ms/step - loss: 0.0913 - accuracy: 0.9716 - val_loss: 0.0945 - val_accuracy: 0.9712\n",
            "Epoch 42/100\n",
            "500/500 [==============================] - 7s 13ms/step - loss: 0.0882 - accuracy: 0.9725 - val_loss: 0.0892 - val_accuracy: 0.9730\n",
            "Epoch 43/100\n",
            "500/500 [==============================] - 6s 12ms/step - loss: 0.0851 - accuracy: 0.9734 - val_loss: 0.0845 - val_accuracy: 0.9744\n",
            "Epoch 44/100\n",
            "500/500 [==============================] - 7s 13ms/step - loss: 0.0820 - accuracy: 0.9743 - val_loss: 0.0825 - val_accuracy: 0.9749\n",
            "Epoch 45/100\n",
            "500/500 [==============================] - 7s 14ms/step - loss: 0.0789 - accuracy: 0.9753 - val_loss: 0.0808 - val_accuracy: 0.9754\n",
            "Epoch 46/100\n",
            "500/500 [==============================] - 6s 12ms/step - loss: 0.0763 - accuracy: 0.9760 - val_loss: 0.0799 - val_accuracy: 0.9757\n",
            "Epoch 47/100\n",
            "500/500 [==============================] - 6s 13ms/step - loss: 0.0738 - accuracy: 0.9767 - val_loss: 0.0730 - val_accuracy: 0.9777\n",
            "Epoch 48/100\n",
            "500/500 [==============================] - 7s 13ms/step - loss: 0.0714 - accuracy: 0.9774 - val_loss: 0.0760 - val_accuracy: 0.9764\n",
            "Epoch 49/100\n",
            "500/500 [==============================] - 6s 13ms/step - loss: 0.0686 - accuracy: 0.9783 - val_loss: 0.0695 - val_accuracy: 0.9786\n",
            "Epoch 50/100\n",
            "500/500 [==============================] - 6s 13ms/step - loss: 0.0666 - accuracy: 0.9789 - val_loss: 0.0666 - val_accuracy: 0.9797\n",
            "Epoch 51/100\n",
            "500/500 [==============================] - 7s 14ms/step - loss: 0.0644 - accuracy: 0.9794 - val_loss: 0.0676 - val_accuracy: 0.9791\n",
            "Epoch 52/100\n",
            "500/500 [==============================] - 6s 13ms/step - loss: 0.0622 - accuracy: 0.9801 - val_loss: 0.0638 - val_accuracy: 0.9801\n",
            "Epoch 53/100\n",
            "500/500 [==============================] - 7s 13ms/step - loss: 0.0604 - accuracy: 0.9806 - val_loss: 0.0592 - val_accuracy: 0.9817\n",
            "Epoch 54/100\n",
            "500/500 [==============================] - 6s 12ms/step - loss: 0.0587 - accuracy: 0.9811 - val_loss: 0.0574 - val_accuracy: 0.9824\n",
            "Epoch 55/100\n",
            "500/500 [==============================] - 7s 14ms/step - loss: 0.0569 - accuracy: 0.9816 - val_loss: 0.0557 - val_accuracy: 0.9828\n",
            "Epoch 56/100\n",
            "500/500 [==============================] - 6s 12ms/step - loss: 0.0551 - accuracy: 0.9822 - val_loss: 0.0537 - val_accuracy: 0.9835\n",
            "Epoch 57/100\n",
            "500/500 [==============================] - 7s 13ms/step - loss: 0.0538 - accuracy: 0.9826 - val_loss: 0.0529 - val_accuracy: 0.9837\n",
            "Epoch 58/100\n",
            "500/500 [==============================] - 7s 13ms/step - loss: 0.0521 - accuracy: 0.9831 - val_loss: 0.0520 - val_accuracy: 0.9838\n",
            "Epoch 59/100\n",
            "500/500 [==============================] - 7s 14ms/step - loss: 0.0508 - accuracy: 0.9834 - val_loss: 0.0484 - val_accuracy: 0.9851\n",
            "Epoch 60/100\n",
            "500/500 [==============================] - 6s 12ms/step - loss: 0.0492 - accuracy: 0.9839 - val_loss: 0.0495 - val_accuracy: 0.9842\n",
            "Epoch 61/100\n",
            "500/500 [==============================] - 6s 13ms/step - loss: 0.0481 - accuracy: 0.9842 - val_loss: 0.0470 - val_accuracy: 0.9853\n",
            "Epoch 62/100\n",
            "500/500 [==============================] - 7s 13ms/step - loss: 0.0470 - accuracy: 0.9845 - val_loss: 0.0448 - val_accuracy: 0.9860\n",
            "Epoch 63/100\n",
            "500/500 [==============================] - 6s 13ms/step - loss: 0.0454 - accuracy: 0.9850 - val_loss: 0.0443 - val_accuracy: 0.9861\n",
            "Epoch 64/100\n",
            "500/500 [==============================] - 7s 14ms/step - loss: 0.0447 - accuracy: 0.9851 - val_loss: 0.0426 - val_accuracy: 0.9867\n",
            "Epoch 65/100\n",
            "500/500 [==============================] - 6s 12ms/step - loss: 0.0437 - accuracy: 0.9853 - val_loss: 0.0419 - val_accuracy: 0.9868\n",
            "Epoch 66/100\n",
            "500/500 [==============================] - 7s 14ms/step - loss: 0.0426 - accuracy: 0.9857 - val_loss: 0.0408 - val_accuracy: 0.9872\n",
            "Epoch 67/100\n",
            "500/500 [==============================] - 6s 12ms/step - loss: 0.0418 - accuracy: 0.9859 - val_loss: 0.0401 - val_accuracy: 0.9872\n",
            "Epoch 68/100\n",
            "500/500 [==============================] - 7s 15ms/step - loss: 0.0412 - accuracy: 0.9860 - val_loss: 0.0406 - val_accuracy: 0.9869\n",
            "Epoch 69/100\n",
            "500/500 [==============================] - 7s 13ms/step - loss: 0.0403 - accuracy: 0.9862 - val_loss: 0.0377 - val_accuracy: 0.9878\n",
            "Epoch 70/100\n",
            "500/500 [==============================] - 8s 15ms/step - loss: 0.0394 - accuracy: 0.9865 - val_loss: 0.0384 - val_accuracy: 0.9875\n",
            "Epoch 71/100\n",
            "500/500 [==============================] - 7s 13ms/step - loss: 0.0387 - accuracy: 0.9867 - val_loss: 0.0372 - val_accuracy: 0.9880\n",
            "Epoch 72/100\n",
            "500/500 [==============================] - 7s 13ms/step - loss: 0.0380 - accuracy: 0.9869 - val_loss: 0.0354 - val_accuracy: 0.9884\n",
            "Epoch 73/100\n",
            "500/500 [==============================] - 6s 12ms/step - loss: 0.0374 - accuracy: 0.9871 - val_loss: 0.0352 - val_accuracy: 0.9885\n",
            "Epoch 74/100\n",
            "500/500 [==============================] - 7s 14ms/step - loss: 0.0366 - accuracy: 0.9873 - val_loss: 0.0336 - val_accuracy: 0.9890\n",
            "Epoch 75/100\n",
            "500/500 [==============================] - 6s 12ms/step - loss: 0.0362 - accuracy: 0.9873 - val_loss: 0.0340 - val_accuracy: 0.9888\n",
            "Epoch 76/100\n",
            "500/500 [==============================] - 7s 13ms/step - loss: 0.0356 - accuracy: 0.9875 - val_loss: 0.0326 - val_accuracy: 0.9892\n",
            "Epoch 77/100\n",
            "500/500 [==============================] - 7s 14ms/step - loss: 0.0349 - accuracy: 0.9877 - val_loss: 0.0333 - val_accuracy: 0.9888\n",
            "Epoch 78/100\n",
            "500/500 [==============================] - 6s 13ms/step - loss: 0.0344 - accuracy: 0.9878 - val_loss: 0.0326 - val_accuracy: 0.9891\n",
            "Epoch 79/100\n",
            "500/500 [==============================] - 7s 13ms/step - loss: 0.0340 - accuracy: 0.9879 - val_loss: 0.0333 - val_accuracy: 0.9888\n",
            "Epoch 80/100\n",
            "500/500 [==============================] - 6s 12ms/step - loss: 0.0338 - accuracy: 0.9879 - val_loss: 0.0307 - val_accuracy: 0.9896\n",
            "Epoch 81/100\n",
            "500/500 [==============================] - 7s 14ms/step - loss: 0.0330 - accuracy: 0.9881 - val_loss: 0.0310 - val_accuracy: 0.9896\n",
            "Epoch 82/100\n",
            "500/500 [==============================] - 7s 13ms/step - loss: 0.0328 - accuracy: 0.9881 - val_loss: 0.0312 - val_accuracy: 0.9895\n",
            "Epoch 83/100\n",
            "500/500 [==============================] - 7s 13ms/step - loss: 0.0326 - accuracy: 0.9882 - val_loss: 0.0295 - val_accuracy: 0.9900\n",
            "Epoch 84/100\n",
            "500/500 [==============================] - 7s 13ms/step - loss: 0.0322 - accuracy: 0.9883 - val_loss: 0.0307 - val_accuracy: 0.9896\n",
            "Epoch 85/100\n",
            "500/500 [==============================] - 6s 13ms/step - loss: 0.0318 - accuracy: 0.9883 - val_loss: 0.0285 - val_accuracy: 0.9902\n",
            "Epoch 86/100\n",
            "500/500 [==============================] - 6s 12ms/step - loss: 0.0313 - accuracy: 0.9885 - val_loss: 0.0300 - val_accuracy: 0.9896\n",
            "Epoch 87/100\n",
            "500/500 [==============================] - 7s 14ms/step - loss: 0.0310 - accuracy: 0.9885 - val_loss: 0.0287 - val_accuracy: 0.9900\n",
            "Epoch 88/100\n",
            "500/500 [==============================] - 7s 13ms/step - loss: 0.0306 - accuracy: 0.9886 - val_loss: 0.0287 - val_accuracy: 0.9900\n",
            "Epoch 89/100\n",
            "500/500 [==============================] - 7s 14ms/step - loss: 0.0303 - accuracy: 0.9886 - val_loss: 0.0275 - val_accuracy: 0.9903\n",
            "Epoch 90/100\n",
            "500/500 [==============================] - 6s 13ms/step - loss: 0.0302 - accuracy: 0.9887 - val_loss: 0.0268 - val_accuracy: 0.9905\n",
            "Epoch 91/100\n",
            "500/500 [==============================] - 7s 14ms/step - loss: 0.0299 - accuracy: 0.9887 - val_loss: 0.0268 - val_accuracy: 0.9905\n",
            "Epoch 92/100\n",
            "500/500 [==============================] - 6s 12ms/step - loss: 0.0295 - accuracy: 0.9889 - val_loss: 0.0264 - val_accuracy: 0.9905\n",
            "Epoch 93/100\n",
            "500/500 [==============================] - 7s 14ms/step - loss: 0.0293 - accuracy: 0.9889 - val_loss: 0.0259 - val_accuracy: 0.9906\n",
            "Epoch 94/100\n",
            "500/500 [==============================] - 7s 14ms/step - loss: 0.0291 - accuracy: 0.9889 - val_loss: 0.0269 - val_accuracy: 0.9904\n",
            "Epoch 95/100\n",
            "500/500 [==============================] - 6s 12ms/step - loss: 0.0289 - accuracy: 0.9890 - val_loss: 0.0259 - val_accuracy: 0.9907\n",
            "Epoch 96/100\n",
            "500/500 [==============================] - 7s 14ms/step - loss: 0.0285 - accuracy: 0.9890 - val_loss: 0.0255 - val_accuracy: 0.9907\n",
            "Epoch 97/100\n",
            "500/500 [==============================] - 6s 12ms/step - loss: 0.0283 - accuracy: 0.9891 - val_loss: 0.0254 - val_accuracy: 0.9907\n",
            "Epoch 98/100\n",
            "500/500 [==============================] - 7s 14ms/step - loss: 0.0282 - accuracy: 0.9891 - val_loss: 0.0242 - val_accuracy: 0.9910\n",
            "Epoch 99/100\n",
            "500/500 [==============================] - 6s 12ms/step - loss: 0.0280 - accuracy: 0.9891 - val_loss: 0.0249 - val_accuracy: 0.9909\n",
            "Epoch 100/100\n",
            "500/500 [==============================] - 7s 13ms/step - loss: 0.0276 - accuracy: 0.9892 - val_loss: 0.0248 - val_accuracy: 0.9908\n"
          ]
        }
      ]
    },
    {
      "cell_type": "code",
      "source": [
        "# Define sampling models\n",
        "# Restore the model and construct the encoder and decoder.\n",
        "model = keras.models.load_model(\"s2s\")\n",
        "\n",
        "encoder_inputs = model.input[0]  # input_1\n",
        "encoder_outputs, state_h_enc, state_c_enc = model.layers[2].output  # lstm_1\n",
        "encoder_states = [state_h_enc, state_c_enc]\n",
        "encoder_model = keras.Model(encoder_inputs, encoder_states)\n",
        "\n",
        "decoder_inputs = model.input[1]  # input_2\n",
        "decoder_state_input_h = keras.Input(shape=(latent_dim,))\n",
        "decoder_state_input_c = keras.Input(shape=(latent_dim,))\n",
        "decoder_states_inputs = [decoder_state_input_h, decoder_state_input_c]\n",
        "decoder_lstm = model.layers[3]\n",
        "decoder_outputs, state_h_dec, state_c_dec = decoder_lstm(\n",
        "    decoder_inputs, initial_state=decoder_states_inputs\n",
        ")\n",
        "decoder_states = [state_h_dec, state_c_dec]\n",
        "decoder_dense = model.layers[4]\n",
        "decoder_outputs = decoder_dense(decoder_outputs)\n",
        "decoder_model = keras.Model(\n",
        "    [decoder_inputs] + decoder_states_inputs, [decoder_outputs] + decoder_states\n",
        ")"
      ],
      "metadata": {
        "id": "SCJc7CE7zue5"
      },
      "execution_count": 50,
      "outputs": []
    },
    {
      "cell_type": "code",
      "source": [
        "# Reverse-lookup token index to decode sequences back to\n",
        "# something readable.\n",
        "reverse_input_char_index = dict((i, char) for char, i in input_token_index.items())\n",
        "reverse_target_char_index = dict((i, char) for char, i in target_token_index.items())"
      ],
      "metadata": {
        "id": "n2OChdFl6DF3"
      },
      "execution_count": 55,
      "outputs": []
    },
    {
      "cell_type": "code",
      "source": [
        "#reverse_input_char_index\n",
        "#reverse_target_char_index"
      ],
      "metadata": {
        "id": "oCn7TZhU77sD"
      },
      "execution_count": 58,
      "outputs": []
    },
    {
      "cell_type": "code",
      "source": [
        "def decode_sequence(input_seq):\n",
        "    # Encode the input as state vectors.\n",
        "    states_value = encoder_model.predict(input_seq)\n",
        "\n",
        "    # Generate empty target sequence of length 1.\n",
        "    target_seq = np.zeros((1, 1, num_decoder_tokens))\n",
        "    # Populate the first character of target sequence with the start character.\n",
        "    target_seq[0, 0, target_token_index[\"\\t\"]] = 1.0\n",
        "\n",
        "    # Sampling loop for a batch of sequences\n",
        "    # (to simplify, here we assume a batch of size 1).\n",
        "    stop_condition = False\n",
        "    decoded_sentence = \"\"\n",
        "    while not stop_condition:\n",
        "        output_tokens, h, c = decoder_model.predict([target_seq] + states_value)\n",
        "\n",
        "        # Sample a token\n",
        "        sampled_token_index = np.argmax(output_tokens[0, -1, :])\n",
        "        sampled_char = reverse_target_char_index[sampled_token_index]\n",
        "        decoded_sentence += sampled_char\n",
        "\n",
        "        # Exit condition: either hit max length\n",
        "        # or find stop character.\n",
        "        if sampled_char == \"\\n\" or len(decoded_sentence) > max_decoder_seq_length:\n",
        "            stop_condition = True\n",
        "\n",
        "        # Update the target sequence (of length 1).\n",
        "        target_seq = np.zeros((1, 1, num_decoder_tokens))\n",
        "        target_seq[0, 0, sampled_token_index] = 1.0\n",
        "\n",
        "        # Update states\n",
        "        states_value = [h, c]\n",
        "    return decoded_sentence"
      ],
      "metadata": {
        "id": "BrrdWmO29Z74"
      },
      "execution_count": 59,
      "outputs": []
    },
    {
      "cell_type": "code",
      "source": [
        "for seq_index in range(10):\n",
        "    # Take one sequence (part of the training set)\n",
        "    # for trying out decoding.\n",
        "    input_seq = encoder_input_data[seq_index : seq_index + 1]\n",
        "    decoded_sentence = decode_sequence(input_seq)\n",
        "    print(\"-\")\n",
        "    print(\"Input sentence:\", input_texts[seq_index])\n",
        "    print(\"Decoded sentence:\", decoded_sentence)"
      ],
      "metadata": {
        "colab": {
          "base_uri": "https://localhost:8080/"
        },
        "id": "LOtj8wBG-a9l",
        "outputId": "5c6d6e4d-b9fe-4f86-9082-27c5f750e213"
      },
      "execution_count": 61,
      "outputs": [
        {
          "output_type": "stream",
          "name": "stdout",
          "text": [
            "1/1 [==============================] - 0s 19ms/step\n",
            "1/1 [==============================] - 0s 21ms/step\n",
            "1/1 [==============================] - 0s 21ms/step\n",
            "1/1 [==============================] - 0s 28ms/step\n",
            "1/1 [==============================] - 0s 22ms/step\n",
            "1/1 [==============================] - 0s 26ms/step\n",
            "1/1 [==============================] - 0s 22ms/step\n",
            "1/1 [==============================] - 0s 23ms/step\n",
            "1/1 [==============================] - 0s 21ms/step\n",
            "-\n",
            "Input sentence: Go.\n",
            "Decoded sentence: Marche.\n",
            "\n",
            "1/1 [==============================] - 0s 24ms/step\n",
            "1/1 [==============================] - 0s 26ms/step\n",
            "1/1 [==============================] - 0s 28ms/step\n",
            "1/1 [==============================] - 0s 23ms/step\n",
            "1/1 [==============================] - 0s 22ms/step\n",
            "1/1 [==============================] - 0s 25ms/step\n",
            "1/1 [==============================] - 0s 23ms/step\n",
            "1/1 [==============================] - 0s 24ms/step\n",
            "1/1 [==============================] - 0s 24ms/step\n",
            "-\n",
            "Input sentence: Go.\n",
            "Decoded sentence: Marche.\n",
            "\n",
            "1/1 [==============================] - 0s 21ms/step\n",
            "1/1 [==============================] - 0s 26ms/step\n",
            "1/1 [==============================] - 0s 23ms/step\n",
            "1/1 [==============================] - 0s 29ms/step\n",
            "1/1 [==============================] - 0s 22ms/step\n",
            "1/1 [==============================] - 0s 25ms/step\n",
            "1/1 [==============================] - 0s 22ms/step\n",
            "1/1 [==============================] - 0s 22ms/step\n",
            "1/1 [==============================] - 0s 24ms/step\n",
            "-\n",
            "Input sentence: Go.\n",
            "Decoded sentence: Marche.\n",
            "\n",
            "1/1 [==============================] - 0s 23ms/step\n",
            "1/1 [==============================] - 0s 22ms/step\n",
            "1/1 [==============================] - 0s 23ms/step\n",
            "1/1 [==============================] - 0s 23ms/step\n",
            "1/1 [==============================] - 0s 21ms/step\n",
            "1/1 [==============================] - 0s 25ms/step\n",
            "1/1 [==============================] - 0s 25ms/step\n",
            "1/1 [==============================] - 0s 25ms/step\n",
            "1/1 [==============================] - 0s 24ms/step\n",
            "-\n",
            "Input sentence: Go.\n",
            "Decoded sentence: Marche.\n",
            "\n",
            "1/1 [==============================] - 0s 22ms/step\n",
            "1/1 [==============================] - 0s 23ms/step\n",
            "1/1 [==============================] - 0s 24ms/step\n",
            "1/1 [==============================] - 0s 22ms/step\n",
            "1/1 [==============================] - 0s 21ms/step\n",
            "1/1 [==============================] - 0s 21ms/step\n",
            "1/1 [==============================] - 0s 35ms/step\n",
            "1/1 [==============================] - 0s 20ms/step\n",
            "-\n",
            "Input sentence: Hi.\n",
            "Decoded sentence: Salut.\n",
            "\n",
            "1/1 [==============================] - 0s 21ms/step\n",
            "1/1 [==============================] - 0s 21ms/step\n",
            "1/1 [==============================] - 0s 20ms/step\n",
            "1/1 [==============================] - 0s 20ms/step\n",
            "1/1 [==============================] - 0s 23ms/step\n",
            "1/1 [==============================] - 0s 22ms/step\n",
            "1/1 [==============================] - 0s 34ms/step\n",
            "1/1 [==============================] - 0s 21ms/step\n",
            "-\n",
            "Input sentence: Hi.\n",
            "Decoded sentence: Salut.\n",
            "\n",
            "1/1 [==============================] - 0s 21ms/step\n",
            "1/1 [==============================] - 0s 22ms/step\n",
            "1/1 [==============================] - 0s 21ms/step\n",
            "1/1 [==============================] - 0s 26ms/step\n",
            "1/1 [==============================] - 0s 19ms/step\n",
            "1/1 [==============================] - 0s 25ms/step\n",
            "1/1 [==============================] - 0s 25ms/step\n",
            "1/1 [==============================] - 0s 25ms/step\n",
            "1/1 [==============================] - 0s 23ms/step\n",
            "-\n",
            "Input sentence: Run!\n",
            "Decoded sentence: Fuyez !\n",
            "\n",
            "1/1 [==============================] - 0s 19ms/step\n",
            "1/1 [==============================] - 0s 26ms/step\n",
            "1/1 [==============================] - 0s 21ms/step\n",
            "1/1 [==============================] - 0s 22ms/step\n",
            "1/1 [==============================] - 0s 29ms/step\n",
            "1/1 [==============================] - 0s 23ms/step\n",
            "1/1 [==============================] - 0s 29ms/step\n",
            "1/1 [==============================] - 0s 24ms/step\n",
            "1/1 [==============================] - 0s 21ms/step\n",
            "-\n",
            "Input sentence: Run!\n",
            "Decoded sentence: Fuyez !\n",
            "\n",
            "1/1 [==============================] - 0s 19ms/step\n",
            "1/1 [==============================] - 0s 22ms/step\n",
            "1/1 [==============================] - 0s 24ms/step\n",
            "1/1 [==============================] - 0s 26ms/step\n",
            "1/1 [==============================] - 0s 24ms/step\n",
            "1/1 [==============================] - 0s 28ms/step\n",
            "1/1 [==============================] - 0s 23ms/step\n",
            "1/1 [==============================] - 0s 27ms/step\n",
            "1/1 [==============================] - 0s 24ms/step\n",
            "-\n",
            "Input sentence: Run!\n",
            "Decoded sentence: Fuyez !\n",
            "\n",
            "1/1 [==============================] - 0s 24ms/step\n",
            "1/1 [==============================] - 0s 26ms/step\n",
            "1/1 [==============================] - 0s 23ms/step\n",
            "1/1 [==============================] - 0s 28ms/step\n",
            "1/1 [==============================] - 0s 24ms/step\n",
            "1/1 [==============================] - 0s 23ms/step\n",
            "1/1 [==============================] - 0s 23ms/step\n",
            "1/1 [==============================] - 0s 26ms/step\n",
            "1/1 [==============================] - 0s 24ms/step\n",
            "-\n",
            "Input sentence: Run!\n",
            "Decoded sentence: Fuyez !\n",
            "\n"
          ]
        }
      ]
    },
    {
      "cell_type": "code",
      "source": [],
      "metadata": {
        "id": "ORSPSVnP-1Bl"
      },
      "execution_count": null,
      "outputs": []
    }
  ]
}